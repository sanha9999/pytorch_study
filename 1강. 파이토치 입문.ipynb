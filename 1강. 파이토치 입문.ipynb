{
 "cells": [
  {
   "cell_type": "code",
   "execution_count": 1,
   "metadata": {},
   "outputs": [],
   "source": [
    "import torch\n",
    "import numpy as np"
   ]
  },
  {
   "cell_type": "code",
   "execution_count": 2,
   "metadata": {},
   "outputs": [
    {
     "name": "stdout",
     "output_type": "stream",
     "text": [
      "tensor([[8.4490e-39, 1.0102e-38, 9.0919e-39, 1.0102e-38],\n",
      "        [8.9082e-39, 8.4489e-39, 9.6429e-39, 8.4490e-39],\n",
      "        [9.6429e-39, 9.2755e-39, 1.0286e-38, 9.0919e-39],\n",
      "        [8.9082e-39, 9.2755e-39, 8.4490e-39, 1.0194e-38],\n",
      "        [9.0919e-39, 8.4490e-39, 1.0561e-38, 1.0194e-38]])\n"
     ]
    }
   ],
   "source": [
    "x = torch.empty(5, 4)\n",
    "print(x)\n",
    "\n",
    "# torch로 [5, 4]인 2D 텐서를 제작한다."
   ]
  },
  {
   "cell_type": "code",
   "execution_count": 3,
   "metadata": {},
   "outputs": [
    {
     "data": {
      "text/plain": [
       "tensor([[1., 1., 1.],\n",
       "        [1., 1., 1.],\n",
       "        [1., 1., 1.]])"
      ]
     },
     "execution_count": 3,
     "metadata": {},
     "output_type": "execute_result"
    }
   ],
   "source": [
    "torch.ones(3, 3)\n",
    "# 1, 이 들어가있는 [3, 3] 2D 텐서를 제작한다."
   ]
  },
  {
   "cell_type": "code",
   "execution_count": 4,
   "metadata": {},
   "outputs": [
    {
     "data": {
      "text/plain": [
       "tensor([0., 0.])"
      ]
     },
     "execution_count": 4,
     "metadata": {},
     "output_type": "execute_result"
    }
   ],
   "source": [
    "torch.zeros(2)\n",
    "# 0.이 들어가있는 [2] 1D텐서를 제작한다."
   ]
  },
  {
   "cell_type": "code",
   "execution_count": 5,
   "metadata": {},
   "outputs": [
    {
     "data": {
      "text/plain": [
       "tensor([[0.6216, 0.8053, 0.1787, 0.1574, 0.9467, 0.6588],\n",
       "        [0.4319, 0.0714, 0.7518, 0.1359, 0.2044, 0.7270],\n",
       "        [0.3895, 0.0108, 0.6618, 0.6111, 0.7469, 0.4706],\n",
       "        [0.0175, 0.9627, 0.9145, 0.8775, 0.8119, 0.7034],\n",
       "        [0.7258, 0.3661, 0.1531, 0.6214, 0.3725, 0.9400]])"
      ]
     },
     "execution_count": 5,
     "metadata": {},
     "output_type": "execute_result"
    }
   ],
   "source": [
    "torch.rand(5, 6)\n",
    "\n",
    "# 랜덤값을 넣어 행렬 제작"
   ]
  },
  {
   "cell_type": "code",
   "execution_count": 6,
   "metadata": {},
   "outputs": [],
   "source": [
    "l = [13, 4]\n",
    "r = np.array([4, 56, 7])"
   ]
  },
  {
   "cell_type": "code",
   "execution_count": 7,
   "metadata": {},
   "outputs": [
    {
     "data": {
      "text/plain": [
       "tensor([13,  4])"
      ]
     },
     "execution_count": 7,
     "metadata": {},
     "output_type": "execute_result"
    }
   ],
   "source": [
    "torch.tensor(l)\n",
    "# 텐서로 변환"
   ]
  },
  {
   "cell_type": "code",
   "execution_count": 8,
   "metadata": {},
   "outputs": [
    {
     "data": {
      "text/plain": [
       "tensor([ 4, 56,  7], dtype=torch.int32)"
      ]
     },
     "execution_count": 8,
     "metadata": {},
     "output_type": "execute_result"
    }
   ],
   "source": [
    "torch.tensor(r)"
   ]
  },
  {
   "cell_type": "code",
   "execution_count": 9,
   "metadata": {},
   "outputs": [
    {
     "data": {
      "text/plain": [
       "torch.Size([5, 4])"
      ]
     },
     "execution_count": 9,
     "metadata": {},
     "output_type": "execute_result"
    }
   ],
   "source": [
    "x.size()"
   ]
  },
  {
   "cell_type": "code",
   "execution_count": 10,
   "metadata": {},
   "outputs": [
    {
     "data": {
      "text/plain": [
       "torch.Tensor"
      ]
     },
     "execution_count": 10,
     "metadata": {},
     "output_type": "execute_result"
    }
   ],
   "source": [
    "type(x)"
   ]
  },
  {
   "cell_type": "code",
   "execution_count": 11,
   "metadata": {},
   "outputs": [
    {
     "name": "stdout",
     "output_type": "stream",
     "text": [
      "tensor([[0.5582, 0.1851],\n",
      "        [0.6802, 0.3508]])\n",
      "tensor([[0.6064, 0.0858],\n",
      "        [0.9353, 0.1505]])\n"
     ]
    }
   ],
   "source": [
    "x = torch.rand(2, 2)\n",
    "y = torch.rand(2, 2)\n",
    "print(x)\n",
    "print(y)"
   ]
  },
  {
   "cell_type": "code",
   "execution_count": 12,
   "metadata": {},
   "outputs": [
    {
     "data": {
      "text/plain": [
       "tensor([[1.1646, 0.2709],\n",
       "        [1.6155, 0.5014]])"
      ]
     },
     "execution_count": 12,
     "metadata": {},
     "output_type": "execute_result"
    }
   ],
   "source": [
    "x+y"
   ]
  },
  {
   "cell_type": "code",
   "execution_count": 13,
   "metadata": {},
   "outputs": [
    {
     "data": {
      "text/plain": [
       "tensor([[1.1646, 0.2709],\n",
       "        [1.6155, 0.5014]])"
      ]
     },
     "execution_count": 13,
     "metadata": {},
     "output_type": "execute_result"
    }
   ],
   "source": [
    "torch.add(x, y)"
   ]
  },
  {
   "cell_type": "code",
   "execution_count": 14,
   "metadata": {},
   "outputs": [
    {
     "data": {
      "text/plain": [
       "tensor([[1.1646, 0.2709],\n",
       "        [1.6155, 0.5014]])"
      ]
     },
     "execution_count": 14,
     "metadata": {},
     "output_type": "execute_result"
    }
   ],
   "source": [
    "y.add(x)"
   ]
  },
  {
   "cell_type": "code",
   "execution_count": 15,
   "metadata": {},
   "outputs": [
    {
     "data": {
      "text/plain": [
       "tensor([[1.1646, 0.2709],\n",
       "        [1.6155, 0.5014]])"
      ]
     },
     "execution_count": 15,
     "metadata": {},
     "output_type": "execute_result"
    }
   ],
   "source": [
    "y.add_(x)\n",
    "# _은 인플레이션으로 _를 쓰면 y에 x를 더한 값을 y에 넣는다는 의미이다."
   ]
  },
  {
   "cell_type": "code",
   "execution_count": 16,
   "metadata": {},
   "outputs": [
    {
     "data": {
      "text/plain": [
       "tensor([[1.1646, 0.2709],\n",
       "        [1.6155, 0.5014]])"
      ]
     },
     "execution_count": 16,
     "metadata": {},
     "output_type": "execute_result"
    }
   ],
   "source": [
    "y"
   ]
  },
  {
   "cell_type": "code",
   "execution_count": 17,
   "metadata": {},
   "outputs": [
    {
     "name": "stdout",
     "output_type": "stream",
     "text": [
      "tensor([[0.4319, 0.1241, 0.9262, 0.5066, 0.1399, 0.6572, 0.2569, 0.8063],\n",
      "        [0.9258, 0.6073, 0.8121, 0.6891, 0.6295, 0.0356, 0.5538, 0.6404],\n",
      "        [0.0439, 0.7715, 0.8703, 0.7372, 0.2647, 0.3792, 0.8965, 0.6403],\n",
      "        [0.8646, 0.4206, 0.5566, 0.6054, 0.1212, 0.6610, 0.1977, 0.7310],\n",
      "        [0.9278, 0.9656, 0.3551, 0.7926, 0.1518, 0.7322, 0.7339, 0.4582],\n",
      "        [0.7861, 0.9246, 0.0970, 0.0951, 0.2627, 0.2570, 0.5802, 0.9471],\n",
      "        [0.1371, 0.9488, 0.0101, 0.5327, 0.0598, 0.0524, 0.6888, 0.2439],\n",
      "        [0.6494, 0.5221, 0.6720, 0.0967, 0.0872, 0.0799, 0.3777, 0.5258]])\n"
     ]
    }
   ],
   "source": [
    "x = torch.rand(8,8)\n",
    "print(x)"
   ]
  },
  {
   "cell_type": "code",
   "execution_count": 19,
   "metadata": {},
   "outputs": [],
   "source": [
    "bf = x.view(64) # 64개를 쭉 나열하겠다.\n",
    "af = x.view(8,8)"
   ]
  },
  {
   "cell_type": "code",
   "execution_count": 21,
   "metadata": {},
   "outputs": [
    {
     "name": "stdout",
     "output_type": "stream",
     "text": [
      "x.view(64)를 한 값은 \n",
      " 1\n",
      "x.view(8,8)를 한 값은 \n",
      " 2\n"
     ]
    }
   ],
   "source": [
    "print('x.view(64)를 한 값은 \\n', bf.ndim)\n",
    "print('x.view(8,8)를 한 값은 \\n', af.ndim)\n",
    "# 차원도 다르다는 것을 알 수 있다."
   ]
  },
  {
   "cell_type": "code",
   "execution_count": 22,
   "metadata": {},
   "outputs": [
    {
     "data": {
      "text/plain": [
       "tensor([[0.4319, 0.1241, 0.9262, 0.5066, 0.1399, 0.6572, 0.2569, 0.8063, 0.9258,\n",
       "         0.6073, 0.8121, 0.6891, 0.6295, 0.0356, 0.5538, 0.6404],\n",
       "        [0.0439, 0.7715, 0.8703, 0.7372, 0.2647, 0.3792, 0.8965, 0.6403, 0.8646,\n",
       "         0.4206, 0.5566, 0.6054, 0.1212, 0.6610, 0.1977, 0.7310],\n",
       "        [0.9278, 0.9656, 0.3551, 0.7926, 0.1518, 0.7322, 0.7339, 0.4582, 0.7861,\n",
       "         0.9246, 0.0970, 0.0951, 0.2627, 0.2570, 0.5802, 0.9471],\n",
       "        [0.1371, 0.9488, 0.0101, 0.5327, 0.0598, 0.0524, 0.6888, 0.2439, 0.6494,\n",
       "         0.5221, 0.6720, 0.0967, 0.0872, 0.0799, 0.3777, 0.5258]])"
      ]
     },
     "execution_count": 22,
     "metadata": {},
     "output_type": "execute_result"
    }
   ],
   "source": [
    "x.view(-1, 16)\n",
    "\n",
    "# -1을 넣으면 알아서 계산이 된다!!"
   ]
  },
  {
   "cell_type": "code",
   "execution_count": 24,
   "metadata": {},
   "outputs": [],
   "source": [
    "# 텐서에서 넘파이로 변환\n",
    "\n",
    "y = x.numpy()"
   ]
  },
  {
   "cell_type": "code",
   "execution_count": 25,
   "metadata": {},
   "outputs": [
    {
     "data": {
      "text/plain": [
       "numpy.ndarray"
      ]
     },
     "execution_count": 25,
     "metadata": {},
     "output_type": "execute_result"
    }
   ],
   "source": [
    "type(y)"
   ]
  },
  {
   "cell_type": "code",
   "execution_count": 26,
   "metadata": {},
   "outputs": [],
   "source": [
    "# 스칼라일때만 가능한 값 변환\n",
    "\n",
    "x = torch.ones(1)"
   ]
  },
  {
   "cell_type": "code",
   "execution_count": 27,
   "metadata": {},
   "outputs": [
    {
     "data": {
      "text/plain": [
       "tensor([1.])"
      ]
     },
     "execution_count": 27,
     "metadata": {},
     "output_type": "execute_result"
    }
   ],
   "source": [
    "x"
   ]
  },
  {
   "cell_type": "code",
   "execution_count": 28,
   "metadata": {},
   "outputs": [
    {
     "data": {
      "text/plain": [
       "1.0"
      ]
     },
     "execution_count": 28,
     "metadata": {},
     "output_type": "execute_result"
    }
   ],
   "source": [
    "x.item()"
   ]
  },
  {
   "cell_type": "code",
   "execution_count": null,
   "metadata": {},
   "outputs": [],
   "source": []
  }
 ],
 "metadata": {
  "kernelspec": {
   "display_name": "Python 3",
   "language": "python",
   "name": "python3"
  },
  "language_info": {
   "codemirror_mode": {
    "name": "ipython",
    "version": 3
   },
   "file_extension": ".py",
   "mimetype": "text/x-python",
   "name": "python",
   "nbconvert_exporter": "python",
   "pygments_lexer": "ipython3",
   "version": "3.8.5"
  }
 },
 "nbformat": 4,
 "nbformat_minor": 4
}
