{
 "cells": [
  {
   "cell_type": "code",
   "execution_count": 12,
   "metadata": {},
   "outputs": [],
   "source": [
    "import torch\n",
    "import torch.optim as optim"
   ]
  },
  {
   "cell_type": "code",
   "execution_count": 4,
   "metadata": {},
   "outputs": [],
   "source": [
    "x_train = torch.Tensor([1,2,3,4,5,6])\n",
    "y_train = torch.Tensor([2, 4, 6, 8, 10, 12])"
   ]
  },
  {
   "cell_type": "code",
   "execution_count": 5,
   "metadata": {},
   "outputs": [
    {
     "name": "stdout",
     "output_type": "stream",
     "text": [
      "tensor([1., 2., 3., 4., 5., 6.])\n"
     ]
    }
   ],
   "source": [
    "print(x_train)"
   ]
  },
  {
   "cell_type": "code",
   "execution_count": 6,
   "metadata": {},
   "outputs": [],
   "source": [
    "w = torch.zeros(1, requires_grad = True)"
   ]
  },
  {
   "cell_type": "code",
   "execution_count": 7,
   "metadata": {},
   "outputs": [
    {
     "name": "stdout",
     "output_type": "stream",
     "text": [
      "tensor([0.], requires_grad=True)\n"
     ]
    }
   ],
   "source": [
    "print(w)"
   ]
  },
  {
   "cell_type": "code",
   "execution_count": 8,
   "metadata": {},
   "outputs": [
    {
     "name": "stdout",
     "output_type": "stream",
     "text": [
      "tensor([0.], requires_grad=True)\n"
     ]
    }
   ],
   "source": [
    "b = torch.zeros(1, requires_grad=True)\n",
    "\n",
    "print(b)"
   ]
  },
  {
   "cell_type": "code",
   "execution_count": 14,
   "metadata": {},
   "outputs": [],
   "source": [
    "epochs = 2000\n",
    "optimizer = optim.SGD([w, b], lr=0.01)"
   ]
  },
  {
   "cell_type": "code",
   "execution_count": 17,
   "metadata": {},
   "outputs": [
    {
     "name": "stdout",
     "output_type": "stream",
     "text": [
      "Epoch    0/2000 W: 1.300, b: 0.299 Cost: 13.024631\n",
      "Epoch  100/2000 W: 1.929, b: 0.304 Cost: 0.017912\n",
      "Epoch  200/2000 W: 1.951, b: 0.211 Cost: 0.008621\n",
      "Epoch  300/2000 W: 1.966, b: 0.146 Cost: 0.004150\n",
      "Epoch  400/2000 W: 1.976, b: 0.102 Cost: 0.001997\n",
      "Epoch  500/2000 W: 1.984, b: 0.070 Cost: 0.000961\n",
      "Epoch  600/2000 W: 1.989, b: 0.049 Cost: 0.000463\n",
      "Epoch  700/2000 W: 1.992, b: 0.034 Cost: 0.000223\n",
      "Epoch  800/2000 W: 1.995, b: 0.024 Cost: 0.000107\n",
      "Epoch  900/2000 W: 1.996, b: 0.016 Cost: 0.000052\n",
      "Epoch 1000/2000 W: 1.997, b: 0.011 Cost: 0.000025\n",
      "Epoch 1100/2000 W: 1.998, b: 0.008 Cost: 0.000012\n",
      "Epoch 1200/2000 W: 1.999, b: 0.005 Cost: 0.000006\n",
      "Epoch 1300/2000 W: 1.999, b: 0.004 Cost: 0.000003\n",
      "Epoch 1400/2000 W: 1.999, b: 0.003 Cost: 0.000001\n",
      "Epoch 1500/2000 W: 2.000, b: 0.002 Cost: 0.000001\n",
      "Epoch 1600/2000 W: 2.000, b: 0.001 Cost: 0.000000\n",
      "Epoch 1700/2000 W: 2.000, b: 0.001 Cost: 0.000000\n",
      "Epoch 1800/2000 W: 2.000, b: 0.001 Cost: 0.000000\n",
      "Epoch 1900/2000 W: 2.000, b: 0.000 Cost: 0.000000\n",
      "Epoch 2000/2000 W: 2.000, b: 0.000 Cost: 0.000000\n"
     ]
    }
   ],
   "source": [
    "for epoch in range(epochs+1):\n",
    "    hypothesis = x_train * w + b\n",
    "    \n",
    "    cost = torch.mean((hypothesis - y_train) ** 2) # 평균 제곱 오차\n",
    "    \n",
    "    optimizer.zero_grad()\n",
    "    cost.backward()\n",
    "    optimizer.step()\n",
    "    \n",
    "    \n",
    "    if epoch % 100 == 0:\n",
    "       print('Epoch {:4d}/{} W: {:.3f}, b: {:.3f} Cost: {:.6f}'.format(\n",
    "            epoch, epochs, w.item(), b.item(), cost.item()\n",
    "        ))"
   ]
  },
  {
   "cell_type": "code",
   "execution_count": null,
   "metadata": {},
   "outputs": [],
   "source": []
  }
 ],
 "metadata": {
  "kernelspec": {
   "display_name": "Python 3",
   "language": "python",
   "name": "python3"
  },
  "language_info": {
   "codemirror_mode": {
    "name": "ipython",
    "version": 3
   },
   "file_extension": ".py",
   "mimetype": "text/x-python",
   "name": "python",
   "nbconvert_exporter": "python",
   "pygments_lexer": "ipython3",
   "version": "3.8.5"
  }
 },
 "nbformat": 4,
 "nbformat_minor": 4
}
