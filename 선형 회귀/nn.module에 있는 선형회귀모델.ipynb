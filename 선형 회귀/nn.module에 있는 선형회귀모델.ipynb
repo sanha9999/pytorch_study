{
 "cells": [
  {
   "cell_type": "code",
   "execution_count": 1,
   "metadata": {},
   "outputs": [],
   "source": [
    "import torch\n",
    "import torch.nn as nn\n"
   ]
  },
  {
   "cell_type": "code",
   "execution_count": 2,
   "metadata": {},
   "outputs": [
    {
     "data": {
      "text/plain": [
       "<torch._C.Generator at 0x292a5610730>"
      ]
     },
     "execution_count": 2,
     "metadata": {},
     "output_type": "execute_result"
    }
   ],
   "source": [
    "torch.manual_seed(1)"
   ]
  },
  {
   "cell_type": "code",
   "execution_count": 3,
   "metadata": {},
   "outputs": [],
   "source": [
    "# 데이터\n",
    "\n",
    "x_train = torch.FloatTensor([[1], [2], [3]])\n",
    "y_train = torch.FloatTensor([[2], [4], [6]])"
   ]
  },
  {
   "cell_type": "code",
   "execution_count": 4,
   "metadata": {},
   "outputs": [],
   "source": [
    "model = nn.Linear(1, 1)\n",
    "# (input_dim, output_dim)이 매개변수이다."
   ]
  },
  {
   "cell_type": "code",
   "execution_count": 5,
   "metadata": {},
   "outputs": [
    {
     "name": "stdout",
     "output_type": "stream",
     "text": [
      "[Parameter containing:\n",
      "tensor([[0.5153]], requires_grad=True), Parameter containing:\n",
      "tensor([-0.4414], requires_grad=True)]\n"
     ]
    }
   ],
   "source": [
    "# 가중치 W와 편향 b값을 parameters()함수로 알아볼 수 있다.\n",
    "print(list(model.parameters()))\n",
    "# 첫번째 값이 W이고 두번째 값이 b값이다."
   ]
  },
  {
   "cell_type": "code",
   "execution_count": 6,
   "metadata": {},
   "outputs": [],
   "source": [
    "import torch.optim as optim\n",
    "\n",
    "optimizer = optim.SGD(model.parameters(), lr=0.01)"
   ]
  },
  {
   "cell_type": "code",
   "execution_count": 16,
   "metadata": {},
   "outputs": [
    {
     "name": "stdout",
     "output_type": "stream",
     "text": [
      "epoch : 0/20, paramiter : tensor([[2.0000],\n",
      "        [4.0000],\n",
      "        [6.0000]], grad_fn=<AddmmBackward>), cost : 0.000000\n",
      "epoch : 1/20, paramiter : tensor([[2.0000],\n",
      "        [4.0000],\n",
      "        [6.0000]], grad_fn=<AddmmBackward>), cost : 0.000000\n",
      "epoch : 2/20, paramiter : tensor([[2.0000],\n",
      "        [4.0000],\n",
      "        [6.0000]], grad_fn=<AddmmBackward>), cost : 0.000000\n",
      "epoch : 3/20, paramiter : tensor([[2.0000],\n",
      "        [4.0000],\n",
      "        [6.0000]], grad_fn=<AddmmBackward>), cost : 0.000000\n",
      "epoch : 4/20, paramiter : tensor([[2.0000],\n",
      "        [4.0000],\n",
      "        [6.0000]], grad_fn=<AddmmBackward>), cost : 0.000000\n",
      "epoch : 5/20, paramiter : tensor([[2.0000],\n",
      "        [4.0000],\n",
      "        [6.0000]], grad_fn=<AddmmBackward>), cost : 0.000000\n",
      "epoch : 6/20, paramiter : tensor([[2.0000],\n",
      "        [4.0000],\n",
      "        [6.0000]], grad_fn=<AddmmBackward>), cost : 0.000000\n",
      "epoch : 7/20, paramiter : tensor([[2.0000],\n",
      "        [4.0000],\n",
      "        [6.0000]], grad_fn=<AddmmBackward>), cost : 0.000000\n",
      "epoch : 8/20, paramiter : tensor([[2.0000],\n",
      "        [4.0000],\n",
      "        [6.0000]], grad_fn=<AddmmBackward>), cost : 0.000000\n",
      "epoch : 9/20, paramiter : tensor([[2.0000],\n",
      "        [4.0000],\n",
      "        [6.0000]], grad_fn=<AddmmBackward>), cost : 0.000000\n",
      "epoch : 10/20, paramiter : tensor([[2.0000],\n",
      "        [4.0000],\n",
      "        [6.0000]], grad_fn=<AddmmBackward>), cost : 0.000000\n",
      "epoch : 11/20, paramiter : tensor([[2.0000],\n",
      "        [4.0000],\n",
      "        [6.0000]], grad_fn=<AddmmBackward>), cost : 0.000000\n",
      "epoch : 12/20, paramiter : tensor([[2.0000],\n",
      "        [4.0000],\n",
      "        [6.0000]], grad_fn=<AddmmBackward>), cost : 0.000000\n",
      "epoch : 13/20, paramiter : tensor([[2.0000],\n",
      "        [4.0000],\n",
      "        [6.0000]], grad_fn=<AddmmBackward>), cost : 0.000000\n",
      "epoch : 14/20, paramiter : tensor([[2.0000],\n",
      "        [4.0000],\n",
      "        [6.0000]], grad_fn=<AddmmBackward>), cost : 0.000000\n",
      "epoch : 15/20, paramiter : tensor([[2.0000],\n",
      "        [4.0000],\n",
      "        [6.0000]], grad_fn=<AddmmBackward>), cost : 0.000000\n",
      "epoch : 16/20, paramiter : tensor([[2.0000],\n",
      "        [4.0000],\n",
      "        [6.0000]], grad_fn=<AddmmBackward>), cost : 0.000000\n",
      "epoch : 17/20, paramiter : tensor([[2.0000],\n",
      "        [4.0000],\n",
      "        [6.0000]], grad_fn=<AddmmBackward>), cost : 0.000000\n",
      "epoch : 18/20, paramiter : tensor([[2.0000],\n",
      "        [4.0000],\n",
      "        [6.0000]], grad_fn=<AddmmBackward>), cost : 0.000000\n",
      "epoch : 19/20, paramiter : tensor([[2.0000],\n",
      "        [4.0000],\n",
      "        [6.0000]], grad_fn=<AddmmBackward>), cost : 0.000000\n",
      "epoch : 20/20, paramiter : tensor([[2.0000],\n",
      "        [4.0000],\n",
      "        [6.0000]], grad_fn=<AddmmBackward>), cost : 0.000000\n"
     ]
    }
   ],
   "source": [
    "import torch.nn.functional as F\n",
    "\n",
    "epochs = 20\n",
    "\n",
    "for epoch in range(epochs+1):\n",
    "    prediction = model(x_train)\n",
    "    \n",
    "    cost = F.mse_loss(prediction, y_train)\n",
    "    \n",
    "    optimizer.zero_grad()\n",
    "    cost.backward()\n",
    "    optimizer.step()\n",
    "    \n",
    "    if epoch % 1 == 0:\n",
    "        print(\"epoch : {}/{}, paramiter : {}, cost : {:.6f}\".format(epoch, epochs, prediction, cost.item()))"
   ]
  },
  {
   "cell_type": "code",
   "execution_count": 17,
   "metadata": {},
   "outputs": [
    {
     "name": "stdout",
     "output_type": "stream",
     "text": [
      "훈련 후 입력이 4일 때의 예측값 :  tensor([8.0000], grad_fn=<AddBackward0>)\n"
     ]
    }
   ],
   "source": [
    "new_var = torch.FloatTensor([4.0])\n",
    "pred_y = model(new_var)\n",
    "print(\"훈련 후 입력이 4일 때의 예측값 : \", pred_y)"
   ]
  },
  {
   "cell_type": "code",
   "execution_count": 18,
   "metadata": {},
   "outputs": [
    {
     "name": "stdout",
     "output_type": "stream",
     "text": [
      "[Parameter containing:\n",
      "tensor([[2.0000]], requires_grad=True), Parameter containing:\n",
      "tensor([8.7014e-06], requires_grad=True)]\n"
     ]
    }
   ],
   "source": [
    "print(list(model.parameters()))"
   ]
  },
  {
   "cell_type": "code",
   "execution_count": 20,
   "metadata": {},
   "outputs": [],
   "source": [
    "# 다중 선형 회귀\n",
    "\n",
    "x_train = torch.FloatTensor([[73, 80, 75],\n",
    "                            [93, 88, 93],\n",
    "                            [89, 91, 90],\n",
    "                            [96, 98,100],\n",
    "                            [73, 66, 70]])\n",
    "\n",
    "y_train = torch.FloatTensor([[152], [185], [180], [196], [142]])"
   ]
  },
  {
   "cell_type": "code",
   "execution_count": 21,
   "metadata": {},
   "outputs": [],
   "source": [
    "model = nn.Linear(3, 1)"
   ]
  },
  {
   "cell_type": "code",
   "execution_count": 22,
   "metadata": {},
   "outputs": [
    {
     "name": "stdout",
     "output_type": "stream",
     "text": [
      "[Parameter containing:\n",
      "tensor([[-0.1119,  0.2710, -0.5435]], requires_grad=True), Parameter containing:\n",
      "tensor([0.3462], requires_grad=True)]\n"
     ]
    }
   ],
   "source": [
    "print(list(model.parameters()))"
   ]
  },
  {
   "cell_type": "code",
   "execution_count": 23,
   "metadata": {},
   "outputs": [],
   "source": [
    "optimizer = optim.SGD(model.parameters(), lr=1e-5)"
   ]
  },
  {
   "cell_type": "code",
   "execution_count": 26,
   "metadata": {},
   "outputs": [
    {
     "name": "stdout",
     "output_type": "stream",
     "text": [
      "epoch : 0/20000, cost : 2.213616132736206\n",
      "epoch : 1000/20000, cost : 1.3585500717163086\n",
      "epoch : 2000/20000, cost : 0.8610031008720398\n",
      "epoch : 3000/20000, cost : 0.5713972449302673\n",
      "epoch : 4000/20000, cost : 0.4027414917945862\n",
      "epoch : 5000/20000, cost : 0.3044343590736389\n",
      "epoch : 6000/20000, cost : 0.24704840779304504\n",
      "epoch : 7000/20000, cost : 0.2134844809770584\n",
      "epoch : 8000/20000, cost : 0.19376316666603088\n",
      "epoch : 9000/20000, cost : 0.18211719393730164\n",
      "epoch : 10000/20000, cost : 0.17517493665218353\n",
      "epoch : 11000/20000, cost : 0.17097605764865875\n",
      "epoch : 12000/20000, cost : 0.16837558150291443\n",
      "epoch : 13000/20000, cost : 0.16671404242515564\n",
      "epoch : 14000/20000, cost : 0.16561424732208252\n",
      "epoch : 15000/20000, cost : 0.1648322343826294\n",
      "epoch : 16000/20000, cost : 0.16425660252571106\n",
      "epoch : 17000/20000, cost : 0.16379818320274353\n",
      "epoch : 18000/20000, cost : 0.1634138971567154\n",
      "epoch : 19000/20000, cost : 0.16307833790779114\n",
      "epoch : 20000/20000, cost : 0.16277337074279785\n"
     ]
    }
   ],
   "source": [
    "epochs = 20000\n",
    "\n",
    "for epoch in range(epochs+1):\n",
    "    prediction = model(x_train)\n",
    "    \n",
    "    cost = F.mse_loss(prediction, y_train)\n",
    "    \n",
    "    optimizer.zero_grad()\n",
    "    cost.backward()\n",
    "    optimizer.step()\n",
    "    if epoch % 1000 == 0:\n",
    "        print(\"epoch : {}/{}, cost : {}\".format(epoch, epochs, cost))"
   ]
  },
  {
   "cell_type": "code",
   "execution_count": 27,
   "metadata": {},
   "outputs": [],
   "source": [
    "our = torch.FloatTensor([[73, 80, 75]])"
   ]
  },
  {
   "cell_type": "code",
   "execution_count": 29,
   "metadata": {},
   "outputs": [
    {
     "name": "stdout",
     "output_type": "stream",
     "text": [
      "예측값 :  tensor([[151.6221]], grad_fn=<AddmmBackward>)\n"
     ]
    }
   ],
   "source": [
    "my=model(our)\n",
    "print(\"예측값 : \", my)"
   ]
  },
  {
   "cell_type": "code",
   "execution_count": 30,
   "metadata": {},
   "outputs": [
    {
     "name": "stdout",
     "output_type": "stream",
     "text": [
      "[Parameter containing:\n",
      "tensor([[1.0707, 0.5358, 0.4032]], requires_grad=True), Parameter containing:\n",
      "tensor([0.3596], requires_grad=True)]\n"
     ]
    }
   ],
   "source": [
    "print(list(model.parameters()))"
   ]
  }
 ],
 "metadata": {
  "kernelspec": {
   "display_name": "Python 3",
   "language": "python",
   "name": "python3"
  },
  "language_info": {
   "codemirror_mode": {
    "name": "ipython",
    "version": 3
   },
   "file_extension": ".py",
   "mimetype": "text/x-python",
   "name": "python",
   "nbconvert_exporter": "python",
   "pygments_lexer": "ipython3",
   "version": "3.8.5"
  }
 },
 "nbformat": 4,
 "nbformat_minor": 4
}
