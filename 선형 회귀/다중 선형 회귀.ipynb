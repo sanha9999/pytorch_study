{
 "cells": [
  {
   "cell_type": "code",
   "execution_count": 1,
   "metadata": {},
   "outputs": [],
   "source": [
    "import torch\n",
    "import torch.optim as optim\n",
    "import torch.nn as nn\n",
    "import torch.nn.functional as F"
   ]
  },
  {
   "cell_type": "code",
   "execution_count": 2,
   "metadata": {},
   "outputs": [
    {
     "data": {
      "text/plain": [
       "<torch._C.Generator at 0x209a5e6c910>"
      ]
     },
     "execution_count": 2,
     "metadata": {},
     "output_type": "execute_result"
    }
   ],
   "source": [
    "torch.manual_seed(1) # 다시 돌려도 랜덤값이 변하지 않게"
   ]
  },
  {
   "cell_type": "code",
   "execution_count": 3,
   "metadata": {},
   "outputs": [],
   "source": [
    "x1_train = torch.FloatTensor([[73], [93], [89], [96],[73]])\n",
    "x2_train = torch.FloatTensor([[80],[88],[91],[98],[66]])\n",
    "x3_train = torch.FloatTensor([[75],[93],[80],[100],[70]])\n",
    "y_train = torch.FloatTensor([[152], [185], [180], [196], [142]])"
   ]
  },
  {
   "cell_type": "code",
   "execution_count": 4,
   "metadata": {},
   "outputs": [],
   "source": [
    "w1 = torch.zeros(1, requires_grad=True)\n",
    "w2 = torch.zeros(1, requires_grad=True)\n",
    "w3 = torch.zeros(1, requires_grad=True)\n",
    "b = torch.zeros(1, requires_grad=True)"
   ]
  },
  {
   "cell_type": "code",
   "execution_count": 13,
   "metadata": {},
   "outputs": [
    {
     "name": "stdout",
     "output_type": "stream",
     "text": [
      "epoch : 0/11000, w1 : 1.221, w2 : 0.653. w3 : 0.146, b : -0.002 cost : 0.110\n",
      "epoch : 500/11000, w1 : 1.221, w2 : 0.653. w3 : 0.146, b : -0.002 cost : 0.110\n",
      "epoch : 1000/11000, w1 : 1.222, w2 : 0.653. w3 : 0.146, b : -0.003 cost : 0.110\n",
      "epoch : 1500/11000, w1 : 1.222, w2 : 0.653. w3 : 0.146, b : -0.003 cost : 0.110\n",
      "epoch : 2000/11000, w1 : 1.222, w2 : 0.653. w3 : 0.145, b : -0.003 cost : 0.110\n",
      "epoch : 2500/11000, w1 : 1.223, w2 : 0.653. w3 : 0.145, b : -0.004 cost : 0.109\n",
      "epoch : 3000/11000, w1 : 1.223, w2 : 0.653. w3 : 0.145, b : -0.004 cost : 0.109\n",
      "epoch : 3500/11000, w1 : 1.223, w2 : 0.653. w3 : 0.145, b : -0.005 cost : 0.109\n",
      "epoch : 4000/11000, w1 : 1.223, w2 : 0.652. w3 : 0.145, b : -0.005 cost : 0.109\n",
      "epoch : 4500/11000, w1 : 1.224, w2 : 0.652. w3 : 0.145, b : -0.005 cost : 0.109\n",
      "epoch : 5000/11000, w1 : 1.224, w2 : 0.652. w3 : 0.144, b : -0.006 cost : 0.109\n",
      "epoch : 5500/11000, w1 : 1.224, w2 : 0.652. w3 : 0.144, b : -0.006 cost : 0.109\n",
      "epoch : 6000/11000, w1 : 1.224, w2 : 0.652. w3 : 0.144, b : -0.006 cost : 0.109\n",
      "epoch : 6500/11000, w1 : 1.224, w2 : 0.652. w3 : 0.144, b : -0.007 cost : 0.109\n",
      "epoch : 7000/11000, w1 : 1.224, w2 : 0.652. w3 : 0.144, b : -0.007 cost : 0.109\n",
      "epoch : 7500/11000, w1 : 1.224, w2 : 0.652. w3 : 0.144, b : -0.007 cost : 0.109\n",
      "epoch : 8000/11000, w1 : 1.225, w2 : 0.652. w3 : 0.144, b : -0.008 cost : 0.109\n",
      "epoch : 8500/11000, w1 : 1.225, w2 : 0.652. w3 : 0.144, b : -0.008 cost : 0.109\n",
      "epoch : 9000/11000, w1 : 1.225, w2 : 0.652. w3 : 0.144, b : -0.008 cost : 0.109\n",
      "epoch : 9500/11000, w1 : 1.225, w2 : 0.652. w3 : 0.144, b : -0.009 cost : 0.109\n",
      "epoch : 10000/11000, w1 : 1.225, w2 : 0.652. w3 : 0.144, b : -0.009 cost : 0.109\n",
      "epoch : 10500/11000, w1 : 1.225, w2 : 0.652. w3 : 0.144, b : -0.010 cost : 0.109\n",
      "epoch : 11000/11000, w1 : 1.225, w2 : 0.652. w3 : 0.144, b : -0.010 cost : 0.109\n"
     ]
    }
   ],
   "source": [
    "optimizer = optim.SGD([w1, w2, w3, b], lr=1e-5)\n",
    "\n",
    "epochs=11000\n",
    "for epoch in range(epochs+1):\n",
    "    hp = x1_train * w1 + x2_train * w2 + x3_train * w3 + b\n",
    "    \n",
    "    cost = torch.mean((hp - y_train) ** 2)\n",
    "    \n",
    "    optimizer.zero_grad()\n",
    "    cost.backward()\n",
    "    optimizer.step()\n",
    "    \n",
    "    if epoch % 500 == 0:\n",
    "        print(\"epoch : {}/{}, w1 : {:.3f}, w2 : {:.3f}. w3 : {:.3f}, b : {:.3f} cost : {:.3f}\".format(epoch, epochs,\n",
    "                                                                                  w1.item(), w2.item(), w3.item(), b.item(), cost.item()))\n",
    "    \n",
    "    "
   ]
  },
  {
   "cell_type": "code",
   "execution_count": null,
   "metadata": {},
   "outputs": [],
   "source": []
  }
 ],
 "metadata": {
  "kernelspec": {
   "display_name": "Python 3",
   "language": "python",
   "name": "python3"
  },
  "language_info": {
   "codemirror_mode": {
    "name": "ipython",
    "version": 3
   },
   "file_extension": ".py",
   "mimetype": "text/x-python",
   "name": "python",
   "nbconvert_exporter": "python",
   "pygments_lexer": "ipython3",
   "version": "3.8.5"
  }
 },
 "nbformat": 4,
 "nbformat_minor": 4
}
